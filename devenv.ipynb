{
  "cells": [
    {
      "attachments": {},
      "cell_type": "markdown",
      "metadata": {},
      "source": [
        "# Set-up developer environment"
      ]
    },
    {
      "cell_type": "markdown",
      "metadata": {
        "id": "QSj4zEv-isb5"
      },
      "source": [
        "### Pre-requisites\n",
        "\n"
      ]
    },
    {
      "cell_type": "code",
      "execution_count": null,
      "metadata": {
        "colab": {
          "base_uri": "https://localhost:8080/"
        },
        "id": "mULFuh52pCz0",
        "outputId": "3e705681-c056-4fed-f821-32b076dc8d9a"
      },
      "outputs": [],
      "source": [
        "!apt-get install vim tmux powerline zsh\n",
        "!git clone https://github.com/gbraad/dotfiles.git\n",
        "!./dotfiles/install.sh"
      ]
    },
    {
      "cell_type": "markdown",
      "metadata": {
        "id": "2y5sNiGOi5c4"
      },
      "source": [
        "### Running server"
      ]
    },
    {
      "cell_type": "code",
      "execution_count": null,
      "metadata": {
        "colab": {
          "base_uri": "https://localhost:8080/"
        },
        "id": "yFxPCsLiTZy7",
        "outputId": "cece06fd-3ee8-4def-d68f-6605d5db82bb"
      },
      "outputs": [],
      "source": [
        "!curl -fsSL https://code-server.dev/install.sh | sh"
      ]
    },
    {
      "cell_type": "code",
      "execution_count": 4,
      "metadata": {
        "colab": {
          "base_uri": "https://localhost:8080/"
        },
        "id": "dqlwMNLuTkHK",
        "outputId": "5528b94d-dba8-45b9-b4c5-88e08cd78e79"
      },
      "outputs": [],
      "source": [
        "!code-server /workspace"
      ]
    }
  ],
  "metadata": {
    "colab": {
      "provenance": []
    },
    "kernelspec": {
      "display_name": "Python 3",
      "name": "python3"
    },
    "language_info": {
      "codemirror_mode": {
        "name": "ipython",
        "version": 3
      },
      "file_extension": ".py",
      "mimetype": "text/x-python",
      "name": "python",
      "nbconvert_exporter": "python",
      "pygments_lexer": "ipython3",
      "version": "3.11.1"
    }
  },
  "nbformat": 4,
  "nbformat_minor": 0
}
