{
  "nbformat": 4,
  "nbformat_minor": 0,
  "metadata": {
    "colab": {
      "provenance": []
    },
    "kernelspec": {
      "name": "python3",
      "display_name": "Python 3"
    },
    "language_info": {
      "name": "python"
    }
  },
  "cells": [
    {
      "cell_type": "markdown",
      "source": [
        "# Remote VS Code via tunnel"
      ],
      "metadata": {
        "id": "tVNc8FSLaorE"
      }
    },
    {
      "cell_type": "markdown",
      "source": [
        "## Installation"
      ],
      "metadata": {
        "id": "qOqVhSaUamuY"
      }
    },
    {
      "cell_type": "code",
      "execution_count": 1,
      "metadata": {
        "colab": {
          "base_uri": "https://localhost:8080/"
        },
        "id": "GKO2uR4gZzPI",
        "outputId": "1cde6765-eba0-40f8-f0fc-998258b0044b"
      },
      "outputs": [
        {
          "output_type": "stream",
          "name": "stdout",
          "text": [
            "--2023-03-07 04:50:04--  https://code.visualstudio.com/sha/download?build=stable&os=cli-alpine-x64\n",
            "Resolving code.visualstudio.com (code.visualstudio.com)... 13.107.237.40, 13.107.238.40, 2620:1ec:4e:1::40, ...\n",
            "Connecting to code.visualstudio.com (code.visualstudio.com)|13.107.237.40|:443... connected.\n",
            "HTTP request sent, awaiting response... 302 Found\n",
            "Location: https://az764295.vo.msecnd.net/stable/92da9481c0904c6adfe372c12da3b7748d74bdcb/vscode_cli_alpine_x64_cli.tar.gz [following]\n",
            "--2023-03-07 04:50:05--  https://az764295.vo.msecnd.net/stable/92da9481c0904c6adfe372c12da3b7748d74bdcb/vscode_cli_alpine_x64_cli.tar.gz\n",
            "Resolving az764295.vo.msecnd.net (az764295.vo.msecnd.net)... 152.199.4.33\n",
            "Connecting to az764295.vo.msecnd.net (az764295.vo.msecnd.net)|152.199.4.33|:443... connected.\n",
            "HTTP request sent, awaiting response... 200 OK\n",
            "Length: 6328129 (6.0M) [application/gzip]\n",
            "Saving to: ‘vscode_cli_alpine_x64_cli.tar.gz’\n",
            "\n",
            "vscode_cli_alpine_x 100%[===================>]   6.03M  --.-KB/s    in 0.08s   \n",
            "\n",
            "2023-03-07 04:50:05 (71.5 MB/s) - ‘vscode_cli_alpine_x64_cli.tar.gz’ saved [6328129/6328129]\n",
            "\n"
          ]
        }
      ],
      "source": [
        "!wget https://code.visualstudio.com/sha/download\\?build\\=stable\\&os\\=cli-alpine-x64 -O vscode_cli_alpine_x64_cli.tar.gz\n",
        "!tar zxvf vscode_cli_alpine_x64_cli.tar.gz"
      ]
    },
    {
      "cell_type": "markdown",
      "source": [
        "## Run server"
      ],
      "metadata": {
        "id": "CsMreqBFah6_"
      }
    },
    {
      "cell_type": "code",
      "source": [
        "!./code tunnel\n"
      ],
      "metadata": {
        "colab": {
          "base_uri": "https://localhost:8080/"
        },
        "id": "3RB5c-KYZ9TE",
        "outputId": "5e3c6f85-c83c-4495-cbf9-d6eb52e897f5"
      },
      "execution_count": null,
      "outputs": [
        {
          "output_type": "stream",
          "name": "stdout",
          "text": [
            "*\r\n",
            "* Visual Studio Code Server\r\n",
            "*\r\n",
            "* By using the software, you agree to\r\n",
            "* the Visual Studio Code Server License Terms (https://aka.ms/vscode-server-license) and\r\n",
            "* the Microsoft Privacy Statement (https://privacy.microsoft.com/en-US/privacystatement).\r\n",
            "*\n",
            "\u001b[2K\u001b[32m✔\u001b[0m \u001b[1mDo you accept the terms in the License Agreement (Y/n)?\u001b[0m \u001b[38;5;8m·\u001b[0m \u001b[32myes\u001b[0m\n",
            "\u001b[?25hTo grant access to the server, please log into https://github.com/login/device and use code 6351-573F\n",
            "\u001b[2K\u001b[32m✔\u001b[0m \u001b[1mWhat would you like to call this machine?\u001b[0m \u001b[38;5;8m·\u001b[0m \u001b[32mf782f0957de5\u001b[0m\n",
            "\u001b[2m[2023-03-07 04:51:06]\u001b[0m \u001b[35minfo\u001b[0m Creating tunnel with the name: f782f0957de5\n",
            "\n",
            "Open this link in your browser https://vscode.dev/tunnel/f782f0957de5/content\n",
            "\n",
            "\u001b[2m[2023-03-07 04:51:19]\u001b[0m \u001b[35minfo\u001b[0m [tunnels::connections::relay_tunnel_host] Opened new client on channel 2\n",
            "\u001b[2m[2023-03-07 04:51:21]\u001b[0m \u001b[35minfo\u001b[0m [rpc.0] Checking /root/.vscode-cli/server-stable/.92da9481c0904c6adfe372c12da3b7748d74bdcb.log and /root/.vscode-cli/server-stable/.92da9481c0904c6adfe372c12da3b7748d74bdcb.pid for a running server...\n",
            "\u001b[2m[2023-03-07 04:51:22]\u001b[0m \u001b[35minfo\u001b[0m [rpc.0] Downloading Visual Studio Code server -> /root/.vscode-cli/server-stable/bin/92da9481c0904c6adfe372c12da3b7748d74bdcb/archive\n",
            "\u001b[2m[2023-03-07 04:51:22]\u001b[0m \u001b[35minfo\u001b[0m [rpc.0] Setting up server...\n",
            "\u001b[2m[2023-03-07 04:51:25]\u001b[0m \u001b[35minfo\u001b[0m [rpc.0] Starting server...\n",
            "\u001b[2m[2023-03-07 04:51:26]\u001b[0m \u001b[35minfo\u001b[0m [rpc.0] Server started\n"
          ]
        }
      ]
    }
  ]
}
