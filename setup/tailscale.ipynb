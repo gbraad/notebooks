{
  "cells": [
    {
      "attachments": {},
      "cell_type": "markdown",
      "metadata": {},
      "source": [
        "# Tailscale"
      ]
    },
    {
      "attachments": {},
      "cell_type": "markdown",
      "metadata": {},
      "source": [
        "## Tailscale for Google Colab"
      ]
    },
    {
      "cell_type": "code",
      "execution_count": null,
      "metadata": {
        "colab": {
          "base_uri": "https://localhost:8080/"
        },
        "id": "n5yaVmhd-9BC",
        "outputId": "67cb876f-0a35-4458-fd6f-5e260f17533e"
      },
      "outputs": [],
      "source": [
        "!curl -fsSL https://pkgs.tailscale.com/stable/ubuntu/bionic.gpg | sudo apt-key add -\n",
        "!curl -fsSL https://pkgs.tailscale.com/stable/ubuntu/bionic.list | sudo tee /etc/apt/sources.list.d/tailscale.list\n",
        "!sudo apt-get update\n",
        "!sudo apt-get install tailscale\n",
        "!rm -rf /tmp/tailscaled\n",
        "!mkdir -p /tmp/tailscaled\n",
        "!chown irc.irc /tmp/tailscaled\n",
        "!rm -rf /var/run/tailscale\n",
        "!mkdir -p /var/run/tailscale\n",
        "!chown irc.irc /var/run/tailscale\n",
        "!cp /var/lib/tailscaled/tailscaled.state /tmp/tailscaled/tailscaled.state\n",
        "!chown irc.irc /tmp/tailscaled/tailscaled.state\n",
        "!nohup sudo -u irc tailscaled --tun=userspace-networking --socks5-server=localhost:1055 --state=/tmp/tailscaled/tailscaled.state --socket=/var/run/tailscale/tailscaled.sock --port 41641 &\n",
        "!until tailscale up; do sleep 1; done"
      ]
    },
    {
      "attachments": {},
      "cell_type": "markdown",
      "metadata": {},
      "source": [
        "## Tailscale userspace proxy"
      ]
    },
    {
      "cell_type": "code",
      "execution_count": null,
      "metadata": {},
      "outputs": [],
      "source": [
        "import os\n",
        "get_ipython().system = os.system\n",
        "\n",
        "!sudo tailscaled --tun=userspace-networking --socks5-server=localhost:1055 --state=/tmp/tailscaled/tailscaled.state --socket=/var/run/tailscale/tailscaled-userspace.sock --port 41642 &\n"
      ]
    },
    {
      "cell_type": "code",
      "execution_count": null,
      "metadata": {},
      "outputs": [],
      "source": [
        "!sudo tailscale -socket /var/run/tailscale/tailscaled-userspace.sock up --hostname=$(cat /etc/hostname)-proxy\n",
        "# --exit-node "
      ]
    },
    {
      "cell_type": "code",
      "execution_count": null,
      "metadata": {},
      "outputs": [],
      "source": [
        "!tailscale status"
      ]
    },
    {
      "cell_type": "code",
      "execution_count": null,
      "metadata": {},
      "outputs": [],
      "source": [
        "!sudo killall tailscaled\n",
        "!sudo killall tailscale"
      ]
    }
  ],
  "metadata": {
    "colab": {
      "provenance": []
    },
    "kernelspec": {
      "display_name": "Python 3",
      "name": "python3"
    },
    "language_info": {
      "codemirror_mode": {
        "name": "ipython",
        "version": 3
      },
      "file_extension": ".py",
      "mimetype": "text/x-python",
      "name": "python",
      "nbconvert_exporter": "python",
      "pygments_lexer": "ipython3",
      "version": "3.11.1"
    }
  },
  "nbformat": 4,
  "nbformat_minor": 0
}
