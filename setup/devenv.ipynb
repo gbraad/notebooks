{
  "cells": [
    {
      "attachments": {},
      "cell_type": "markdown",
      "metadata": {},
      "source": [
        "# Set-up developer environment"
      ]
    },
    {
      "cell_type": "markdown",
      "metadata": {
        "id": "QSj4zEv-isb5"
      },
      "source": [
        "### Pre-requisites\n",
        "\n",
        "Moved to https://github.com/gbraad-dotfiles/notebooks"
      ]
    }
  ],
  "metadata": {
    "colab": {
      "provenance": []
    },
    "kernelspec": {
      "display_name": "Python 3",
      "name": "python3"
    },
    "language_info": {
      "codemirror_mode": {
        "name": "ipython",
        "version": 3
      },
      "file_extension": ".py",
      "mimetype": "text/x-python",
      "name": "python",
      "nbconvert_exporter": "python",
      "pygments_lexer": "ipython3",
      "version": "3.11.1"
    }
  },
  "nbformat": 4,
  "nbformat_minor": 0
}
