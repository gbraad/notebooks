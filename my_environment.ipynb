{
  "nbformat": 4,
  "nbformat_minor": 0,
  "metadata": {
    "colab": {
      "provenance": []
    },
    "kernelspec": {
      "display_name": "Python 3",
      "name": "python3"
    },
    "language_info": {
      "name": "python"
    }
  },
  "cells": [
    {
      "cell_type": "markdown",
      "metadata": {
        "id": "QSj4zEv-isb5"
      },
      "source": [
        "### Pre-requisites\n",
        "\n"
      ]
    },
    {
      "cell_type": "code",
      "metadata": {
        "colab": {
          "base_uri": "https://localhost:8080/"
        },
        "id": "mULFuh52pCz0",
        "outputId": "3e705681-c056-4fed-f821-32b076dc8d9a"
      },
      "source": [
        "!apt-get install vim tmux powerline zsh\n",
        "!git clone https://github.com/gbraad/dotfiles.git\n",
        "!./dotfiles/install.sh"
      ],
      "execution_count": null,
      "outputs": [
        {
          "output_type": "stream",
          "name": "stdout",
          "text": [
            "Reading package lists... Done\n",
            "Building dependency tree       \n",
            "Reading state information... Done\n",
            "tmux is already the newest version (3.0a-2ubuntu0.4).\n",
            "vim is already the newest version (2:8.1.2269-1ubuntu5.11).\n",
            "The following additional packages will be installed:\n",
            "  fonts-powerline python3-powerline python3-psutil zsh-common\n",
            "Suggested packages:\n",
            "  powerline-doc vim-addon-manager python-psutil-doc zsh-doc\n",
            "The following NEW packages will be installed:\n",
            "  fonts-powerline powerline python3-powerline python3-psutil zsh zsh-common\n",
            "0 upgraded, 6 newly installed, 0 to remove and 19 not upgraded.\n",
            "Need to get 4,769 kB of archives.\n",
            "After this operation, 19.8 MB of additional disk space will be used.\n",
            "Get:1 http://archive.ubuntu.com/ubuntu focal/universe amd64 fonts-powerline all 2.7-3 [5,492 B]\n",
            "Get:2 http://archive.ubuntu.com/ubuntu focal/main amd64 python3-psutil amd64 5.5.1-1ubuntu4 [141 kB]\n",
            "Get:3 http://archive.ubuntu.com/ubuntu focal/universe amd64 python3-powerline all 2.7-3 [126 kB]\n",
            "Get:4 http://archive.ubuntu.com/ubuntu focal/universe amd64 powerline amd64 2.7-3 [46.0 kB]\n",
            "Get:5 http://archive.ubuntu.com/ubuntu focal-updates/main amd64 zsh-common all 5.8-3ubuntu1.1 [3,743 kB]\n",
            "Get:6 http://archive.ubuntu.com/ubuntu focal-updates/main amd64 zsh amd64 5.8-3ubuntu1.1 [707 kB]\n",
            "Fetched 4,769 kB in 2s (2,951 kB/s)\n",
            "Preconfiguring packages ...\n",
            "Selecting previously unselected package fonts-powerline.\n",
            "(Reading database ... 128208 files and directories currently installed.)\n",
            "Preparing to unpack .../0-fonts-powerline_2.7-3_all.deb ...\n",
            "Unpacking fonts-powerline (2.7-3) ...\n",
            "Selecting previously unselected package python3-psutil.\n",
            "Preparing to unpack .../1-python3-psutil_5.5.1-1ubuntu4_amd64.deb ...\n",
            "Unpacking python3-psutil (5.5.1-1ubuntu4) ...\n",
            "Selecting previously unselected package python3-powerline.\n",
            "Preparing to unpack .../2-python3-powerline_2.7-3_all.deb ...\n",
            "Unpacking python3-powerline (2.7-3) ...\n",
            "Selecting previously unselected package powerline.\n",
            "Preparing to unpack .../3-powerline_2.7-3_amd64.deb ...\n",
            "Unpacking powerline (2.7-3) ...\n",
            "Selecting previously unselected package zsh-common.\n",
            "Preparing to unpack .../4-zsh-common_5.8-3ubuntu1.1_all.deb ...\n",
            "Unpacking zsh-common (5.8-3ubuntu1.1) ...\n",
            "Selecting previously unselected package zsh.\n",
            "Preparing to unpack .../5-zsh_5.8-3ubuntu1.1_amd64.deb ...\n",
            "Unpacking zsh (5.8-3ubuntu1.1) ...\n",
            "Setting up zsh-common (5.8-3ubuntu1.1) ...\n",
            "Setting up python3-psutil (5.5.1-1ubuntu4) ...\n",
            "Setting up zsh (5.8-3ubuntu1.1) ...\n",
            "Setting up fonts-powerline (2.7-3) ...\n",
            "Setting up python3-powerline (2.7-3) ...\n",
            "Setting up powerline (2.7-3) ...\n",
            "Created symlink /etc/systemd/user/default.target.wants/powerline-daemon.service → /usr/lib/systemd/user/powerline-daemon.service.\n",
            "Processing triggers for man-db (2.9.1-1) ...\n",
            "Processing triggers for fontconfig (2.13.1-2ubuntu3) ...\n",
            "Cloning into 'dotfiles'...\n",
            "remote: Enumerating objects: 1275, done.\u001b[K\n",
            "remote: Counting objects: 100% (52/52), done.\u001b[K\n",
            "remote: Compressing objects: 100% (47/47), done.\u001b[K\n",
            "remote: Total 1275 (delta 30), reused 13 (delta 5), pack-reused 1223\u001b[K\n",
            "Receiving objects: 100% (1275/1275), 504.22 KiB | 2.57 MiB/s, done.\n",
            "Resolving deltas: 100% (516/516), done.\n",
            "Reading package lists... Done\n",
            "Building dependency tree       \n",
            "Reading state information... Done\n",
            "git is already the newest version (1:2.25.1-1ubuntu3.10).\n",
            "zsh is already the newest version (5.8-3ubuntu1.1).\n",
            "Suggested packages:\n",
            "  doc-base\n",
            "The following NEW packages will be installed:\n",
            "  stow\n",
            "0 upgraded, 1 newly installed, 0 to remove and 19 not upgraded.\n",
            "Need to get 380 kB of archives.\n",
            "After this operation, 865 kB of additional disk space will be used.\n",
            "Get:1 http://archive.ubuntu.com/ubuntu focal/universe amd64 stow all 2.3.1-1 [380 kB]\n",
            "Fetched 380 kB in 1s (359 kB/s)\n",
            "debconf: unable to initialize frontend: Dialog\n",
            "debconf: (No usable dialog-like program is installed, so the dialog based frontend cannot be used. at /usr/share/perl5/Debconf/FrontEnd/Dialog.pm line 76, <> line 1.)\n",
            "debconf: falling back to frontend: Readline\n",
            "debconf: unable to initialize frontend: Readline\n",
            "debconf: (This frontend requires a controlling tty.)\n",
            "debconf: falling back to frontend: Teletype\n",
            "dpkg-preconfigure: unable to re-open stdin: \n",
            "Selecting previously unselected package stow.\n",
            "(Reading database ... 130003 files and directories currently installed.)\n",
            "Preparing to unpack .../archives/stow_2.3.1-1_all.deb ...\n",
            "Unpacking stow (2.3.1-1) ...\n",
            "Setting up stow (2.3.1-1) ...\n",
            "Processing triggers for man-db (2.9.1-1) ...\n",
            "Cloning into '/root/.dotfiles'...\n",
            "remote: Enumerating objects: 1275, done.\u001b[K\n",
            "remote: Counting objects: 100% (52/52), done.\u001b[K\n",
            "remote: Compressing objects: 100% (47/47), done.\u001b[K\n",
            "remote: Total 1275 (delta 30), reused 13 (delta 5), pack-reused 1223\u001b[K\n",
            "Receiving objects: 100% (1275/1275), 504.22 KiB | 2.05 MiB/s, done.\n",
            "Resolving deltas: 100% (516/516), done.\n",
            "Submodule 'zsh/.oh-my-zsh' (https://github.com/robbyrussell/oh-my-zsh.git) registered for path 'zsh/.oh-my-zsh'\n",
            "Cloning into '/root/.dotfiles/zsh/.oh-my-zsh'...\n",
            "remote: Enumerating objects: 30515, done.        \n",
            "remote: Counting objects: 100% (92/92), done.        \n",
            "remote: Compressing objects: 100% (68/68), done.        \n",
            "remote: Total 30515 (delta 36), reused 72 (delta 24), pack-reused 30423        \n",
            "Receiving objects: 100% (30515/30515), 10.95 MiB | 18.94 MiB/s, done.\n",
            "Resolving deltas: 100% (15101/15101), done.\n",
            "Submodule path 'zsh/.oh-my-zsh': checked out '9a9f3831925432fdf4352c24a002506a06d329c1'\n",
            "WARNING! stowing tmux would cause conflicts:\n",
            "  * existing target is neither a link nor a directory: .tmux.conf\n",
            "All operations aborted.\n"
          ]
        }
      ]
    },
    {
      "cell_type": "markdown",
      "metadata": {
        "id": "2y5sNiGOi5c4"
      },
      "source": [
        "### Running server"
      ]
    },
    {
      "cell_type": "code",
      "source": [
        "!curl -fsSL https://code-server.dev/install.sh | sh"
      ],
      "metadata": {
        "colab": {
          "base_uri": "https://localhost:8080/"
        },
        "id": "yFxPCsLiTZy7",
        "outputId": "cece06fd-3ee8-4def-d68f-6605d5db82bb"
      },
      "execution_count": null,
      "outputs": [
        {
          "output_type": "stream",
          "name": "stdout",
          "text": [
            "Ubuntu 20.04.5 LTS\n",
            "Installing v4.10.0 of the amd64 deb package from GitHub.\n",
            "\n",
            "+ mkdir -p ~/.cache/code-server\n",
            "+ curl -#fL -o ~/.cache/code-server/code-server_4.10.0_amd64.deb.incomplete -C - https://github.com/coder/code-server/releases/download/v4.10.0/code-server_4.10.0_amd64.deb\n",
            "######################################################################## 100.0%\n",
            "+ mv ~/.cache/code-server/code-server_4.10.0_amd64.deb.incomplete ~/.cache/code-server/code-server_4.10.0_amd64.deb\n",
            "+ dpkg -i ~/.cache/code-server/code-server_4.10.0_amd64.deb\n",
            "Selecting previously unselected package code-server.\n",
            "(Reading database ... 130052 files and directories currently installed.)\n",
            "Preparing to unpack .../code-server_4.10.0_amd64.deb ...\n",
            "Unpacking code-server (4.10.0) ...\n",
            "Setting up code-server (4.10.0) ...\n",
            "\n",
            "deb package has been installed.\n",
            "\n",
            "To have systemd start code-server now and restart on boot:\n",
            "  sudo systemctl enable --now code-server@$USER\n",
            "Or, if you don't want/need a background service you can run:\n",
            "  code-server\n",
            "\n",
            "Deploy code-server for your team with Coder: https://github.com/coder/coder\n"
          ]
        }
      ]
    },
    {
      "cell_type": "code",
      "source": [
        "!code-server"
      ],
      "metadata": {
        "colab": {
          "base_uri": "https://localhost:8080/"
        },
        "id": "dqlwMNLuTkHK",
        "outputId": "5528b94d-dba8-45b9-b4c5-88e08cd78e79"
      },
      "execution_count": null,
      "outputs": [
        {
          "output_type": "stream",
          "name": "stdout",
          "text": [
            "[2023-02-28T13:57:36.131Z] \u001b[38;2;0;143;191minfo  \u001b[0mWrote default config file to ~/.config/code-server/config.yaml\n",
            "[2023-02-28T13:57:36.749Z] info  code-server 4.10.0 ac1fba8bde0c3f29bf6bc27d3d7d75cb2390a7c2\n",
            "[2023-02-28T13:57:36.750Z] info  Using user-data-dir ~/.local/share/code-server\n",
            "[2023-02-28T13:57:36.757Z] error listen EADDRINUSE: address already in use 127.0.0.1:8080\n"
          ]
        }
      ]
    }
  ]
}